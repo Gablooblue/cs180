{
 "cells": [
  {
   "cell_type": "code",
   "execution_count": 20,
   "metadata": {},
   "outputs": [],
   "source": [
    "import numpy\n",
    "import cv2\n",
    "import copy\n",
    "import pandas as pd\n",
    "\n",
    "X_VAL = 1\n",
    "Y_VAL = 0\n",
    "F_VAL = 2\n",
    "PAR_VAL = 3\n",
    "G_VAL = 4\n",
    "MATRIX_HEIGHT = 10\n",
    "MATRIX_WIDTH = 10\n",
    "direction = None"
   ]
  },
  {
   "cell_type": "code",
   "execution_count": 2,
   "metadata": {},
   "outputs": [],
   "source": [
    "'''\n",
    "Priority Queue class taken from GeeksForGeeks\n",
    "I only copied the delete, insert, isEmpty, __init__, and __str__ methods\n",
    "https://www.geeksforgeeks.org/priority-queue-in-python/\n",
    "'''\n",
    "class PriorityQueue(object): \n",
    "    def __init__(self): \n",
    "        self.queue = [] \n",
    "  \n",
    "    def __str__(self): \n",
    "        return ' '.join([str(i) for i in self.queue]) \n",
    "  \n",
    "    # for checking if the queue is empty \n",
    "    def isEmpty(self): \n",
    "        return self.queue == []\n",
    "  \n",
    "    # for inserting an element in the queue \n",
    "    def insert(self, data): \n",
    "        self.queue.append(data) \n",
    "        \n",
    "    def lowest_similar(self, data):\n",
    "        lowest = None\n",
    "        #print(\"ls_data:\", data)\n",
    "        for i in self.queue:\n",
    "            if data[X_VAL] == i[X_VAL] and data[Y_VAL] == i[Y_VAL]:\n",
    "                if lowest == None or lowest > i[F_VAL]:\n",
    "                    lowest = i[F_VAL]\n",
    "                    \n",
    "        #print(\"Queue:\", self.queue)\n",
    "        #print(\"Lowest:\", lowest)\n",
    "        return lowest\n",
    "            \n",
    "    def delete(self): \n",
    "        try: \n",
    "            min_i= 0\n",
    "            for i in range(len(self.queue)): \n",
    "                if self.queue[i][F_VAL] < self.queue[min_i][F_VAL]: \n",
    "                    min_i = i \n",
    "            item = self.queue[min_i] \n",
    "            del self.queue[min_i] \n",
    "            return item \n",
    "        except IndexError: \n",
    "            print() \n",
    "            exit() "
   ]
  },
  {
   "cell_type": "code",
   "execution_count": 3,
   "metadata": {},
   "outputs": [],
   "source": [
    "matrix = cv2.imread(\"test3.png\", 1)"
   ]
  },
  {
   "cell_type": "code",
   "execution_count": 4,
   "metadata": {},
   "outputs": [],
   "source": [
    "def find_start(matrix):\n",
    "    for i in range(0, len(matrix), 50):\n",
    "        for j in range(0, len(matrix[i]), 50):\n",
    "            if(matrix[i][j][0] > 0):\n",
    "                start = format_coordinates(j, i)\n",
    "    return start"
   ]
  },
  {
   "cell_type": "code",
   "execution_count": 5,
   "metadata": {},
   "outputs": [],
   "source": [
    "def find_end(matrix):\n",
    "    for i in range(0, len(matrix), 50):\n",
    "        for j in range(0, len(matrix[i]), 50):\n",
    "            if(matrix[i][j][2] > 0):\n",
    "                end = format_coordinates(j, i)\n",
    "    return end "
   ]
  },
  {
   "cell_type": "code",
   "execution_count": 6,
   "metadata": {},
   "outputs": [],
   "source": [
    "def search(matrix, start, end, algo=\"UCS\", heuristic=\"MH\"):\n",
    "    open_list = PriorityQueue()\n",
    "    closed_list = PriorityQueue()\n",
    "    start.append(0) #F(start)\n",
    "    if algo == \"A*\":\n",
    "        start.append([start[Y_VAL], start[X_VAL], 0])\n",
    "        start.append(0) #g(start)\n",
    "    open_list.insert(start)\n",
    "    steps = 0\n",
    "    value = 0\n",
    "    print(\"Algorithm:\", algo)\n",
    "   \n",
    "    while not open_list.isEmpty():\n",
    "        #print(\"Open List: \", open_list)\n",
    "        q = open_list.delete()\n",
    "        steps += 1\n",
    "        value += q[F_VAL]\n",
    "        if q[X_VAL] == end[X_VAL] and q[Y_VAL] == end[Y_VAL]:\n",
    "            closed_list.insert(q)\n",
    "            break\n",
    "        successors = generate_successors(q[X_VAL], q[Y_VAL])\n",
    "        q_data = get_color_data(matrix, q[X_VAL], q[Y_VAL])\n",
    "        #print(q_data)\n",
    "        for successor in successors:\n",
    "            g = 0\n",
    "            successor_data = get_color_data(matrix, successor[X_VAL], successor[Y_VAL])\n",
    "            if algo == \"UCS\":\n",
    "                f = get_intensity(q_data, successor_data)\n",
    "                f += q[F_VAL]\n",
    "                #print(f)\n",
    "            elif algo == \"GBFS\":\n",
    "                f = calculate_heuristic(successor, end, heuristic)\n",
    "            elif algo == \"A*\":\n",
    "                g = get_intensity(q_data, successor_data) + q[G_VAL]\n",
    "                f = + calculate_heuristic(successor, end, heuristic)\n",
    "                \n",
    "                #f += q[F_VAL]\n",
    "            successor.append(f)\n",
    "            \n",
    "            successor.append([q[Y_VAL], q[X_VAL], q[F_VAL], q[PAR_VAL]])\n",
    "            \n",
    "            if algo == \"A*\":\n",
    "                successor.append(g)\n",
    "            \n",
    "            will_add = True\n",
    "            ol_low = open_list.lowest_similar(successor) \n",
    "            if not ol_low == None and ol_low <= f:\n",
    "                will_add = False\n",
    "            if will_add:\n",
    "                cl_low = closed_list.lowest_similar(successor) \n",
    "                if not cl_low == None and cl_low <= f:\n",
    "                    will_add = False\n",
    "            \n",
    "            if successor_data[0] == 0 and successor_data[1] == 0 and successor_data[2] == 0 :\n",
    "                print(\"WALL\", end= \" \")\n",
    "                will_add = False\n",
    "            if will_add:\n",
    "                print(\"Adding Successor:\", successor)\n",
    "                open_list.insert(successor)\n",
    "            else:\n",
    "                print(\"Will not add\", successor)\n",
    "        closed_list.insert(q)\n",
    "        \n",
    "    print(closed_list)\n",
    "    img = copy.copy(matrix)\n",
    "    while not closed_list.isEmpty():\n",
    "        curr = closed_list.delete()\n",
    "        #print(curr)\n",
    "        if len(curr) >= 4:\n",
    "            x1 = curr[PAR_VAL][X_VAL] \n",
    "            y1 = curr[PAR_VAL][Y_VAL]\n",
    "        else:\n",
    "            x1 = start[X_VAL] \n",
    "            y1 = start[Y_VAL]\n",
    "        x2 = curr[X_VAL] \n",
    "        y2 = curr[Y_VAL]\n",
    "        print(\"Drawing Line (\", x1, \",\",y1, \")->(\", x2, \",\", y2, \")\" )\n",
    "        draw_line(img, line_convert(x1), line_convert(y1), \n",
    "                  line_convert(x2), line_convert(y2))\n",
    "        \n",
    "    print(\"Steps: \", steps)\n",
    "    print(\"Value: \", value)\n",
    "    print(\"Total G:\", q[G_VAL])\n",
    "    cv2.startWindowThread()\n",
    "    cv2.imshow(\"image\", img)\n",
    "    cv2.waitKey(0)\n",
    "    cv2.destroyAllWindows()\n",
    "    cv2.waitKey(1)\n",
    "    img = matrix\n",
    "            \n",
    "        \n",
    "        \n",
    "    \n",
    "    \n",
    "    "
   ]
  },
  {
   "cell_type": "code",
   "execution_count": 7,
   "metadata": {},
   "outputs": [],
   "source": [
    "def line_convert(n):\n",
    "    return (n * 50) + 25"
   ]
  },
  {
   "cell_type": "code",
   "execution_count": 8,
   "metadata": {},
   "outputs": [],
   "source": [
    "def check_and_add(queue, successor):\n",
    "    for i in queue:\n",
    "        if successor[X_VAL] == i[X_VAL] and successor[Y_VAL] == i[Y_VAL]:\n",
    "            if successor[F_VAL] < i[F_VAL]:\n",
    "                arr = []\n",
    "                arr[X_VAL] = successor[X_VAL]\n",
    "                arr[Y_VAL] = successor[Y_VAL]\n",
    "                arr[F_VAL] = successor[F_VAL]\n",
    "                queue.insert(arr)\n",
    "    return queue\n"
   ]
  },
  {
   "cell_type": "code",
   "execution_count": 9,
   "metadata": {},
   "outputs": [],
   "source": [
    "def format_coordinates(x, y):\n",
    "     return [y //50, x//50]"
   ]
  },
  {
   "cell_type": "code",
   "execution_count": 10,
   "metadata": {},
   "outputs": [],
   "source": [
    "def convert_coordinates(x, y):\n",
    "    return [y * 50, x * 50]"
   ]
  },
  {
   "cell_type": "code",
   "execution_count": 11,
   "metadata": {},
   "outputs": [],
   "source": [
    "'''\n",
    "returns color matrix where channels are BGR\n",
    "'''\n",
    "def get_color_data(matrix, x, y):\n",
    "    return matrix[y * 50][x * 50]"
   ]
  },
  {
   "cell_type": "code",
   "execution_count": 12,
   "metadata": {},
   "outputs": [],
   "source": [
    "def generate_successors(x, y):\n",
    "    successors = []\n",
    "    if y < MATRIX_HEIGHT - 1:\n",
    "        successors.append([y + 1, x])\n",
    "    if y > 0:\n",
    "        successors.append([y - 1, x])\n",
    "    if x < MATRIX_WIDTH -1:\n",
    "        successors.append([y, x + 1])\n",
    "    if x > 0:\n",
    "        successors.append([y, x - 1])\n",
    "    return successors \n",
    "        "
   ]
  },
  {
   "cell_type": "code",
   "execution_count": 13,
   "metadata": {},
   "outputs": [],
   "source": [
    "def get_intensity(i, j):\n",
    "    intensity = abs(i[1] - j[1])\n",
    "    return intensity"
   ]
  },
  {
   "cell_type": "code",
   "execution_count": 14,
   "metadata": {},
   "outputs": [],
   "source": [
    "def draw_line(image, x1, y1, x2, y2):\n",
    "    img = cv2.line(image, (x1, y1), (x2, y2), (255, 255, 255), 1)\n",
    "    return img"
   ]
  },
  {
   "cell_type": "code",
   "execution_count": 24,
   "metadata": {},
   "outputs": [],
   "source": [
    "def calculate_heuristic(curr, end, heuristic):\n",
    "    global direction\n",
    "    if heuristic == \"MH\":\n",
    "        return abs(curr[X_VAL] - end[X_VAL] + abs(curr[Y_VAL] - end[Y_VAL]))\n",
    "    elif heuristic == \"FDD\":\n",
    "        if direction == None:\n",
    "            if abs(curr[X_VAL] - end[X_VAL] ) > abs(curr[Y_VAL] - end[Y_VAL]):\n",
    "                direction = \"X\"\n",
    "            else:\n",
    "                direction = \"Y\"\n",
    "        if direction == \"X\":\n",
    "            return abs(curr[X_VAL] - end[X_VAL] )\n",
    "        else:\n",
    "            return abs(curr[Y_VAL] - end[Y_VAL] )\n",
    "    elif heuristic == \"DD\":\n",
    "        return max(abs(curr[X_VAL] - end[X_VAL]), abs(curr[Y_VAL] - end[Y_VAL]))\n",
    "    "
   ]
  },
  {
   "cell_type": "code",
   "execution_count": 16,
   "metadata": {},
   "outputs": [
    {
     "name": "stdout",
     "output_type": "stream",
     "text": [
      "Algorithm: A*\n",
      "Adding Successor: [5, 4, 7, [4, 4, 0, [4, 4, 0]], 118]\n",
      "Adding Successor: [3, 4, 5, [4, 4, 0, [4, 4, 0]], 12]\n",
      "Adding Successor: [4, 5, 7, [4, 4, 0, [4, 4, 0]], 118]\n",
      "Adding Successor: [4, 3, 5, [4, 4, 0, [4, 4, 0]], 12]\n",
      "Will not add [4, 4, 6, [3, 4, 5, [4, 4, 0, [4, 4, 0]]], 256]\n",
      "Adding Successor: [2, 4, 4, [3, 4, 5, [4, 4, 0, [4, 4, 0]]], 76]\n",
      "Adding Successor: [3, 5, 6, [3, 4, 5, [4, 4, 0, [4, 4, 0]]], 30]\n",
      "Adding Successor: [3, 3, 4, [3, 4, 5, [4, 4, 0, [4, 4, 0]]], 220]\n",
      "Will not add [3, 4, 5, [2, 4, 4, [3, 4, 5, [4, 4, 0, [4, 4, 0]]]], 268]\n",
      "Adding Successor: [1, 4, 3, [2, 4, 4, [3, 4, 5, [4, 4, 0, [4, 4, 0]]]], 314]\n",
      "Adding Successor: [2, 5, 5, [2, 4, 4, [3, 4, 5, [4, 4, 0, [4, 4, 0]]]], 190]\n",
      "Adding Successor: [2, 3, 3, [2, 4, 4, [3, 4, 5, [4, 4, 0, [4, 4, 0]]]], 284]\n",
      "Will not add [2, 4, 4, [1, 4, 3, [2, 4, 4, [3, 4, 5, [4, 4, 0, [4, 4, 0]]]]], 332]\n",
      "Adding Successor: [0, 4, 2, [1, 4, 3, [2, 4, 4, [3, 4, 5, [4, 4, 0, [4, 4, 0]]]]], 386]\n",
      "Adding Successor: [1, 5, 4, [1, 4, 3, [2, 4, 4, [3, 4, 5, [4, 4, 0, [4, 4, 0]]]]], 337]\n",
      "Adding Successor: [1, 3, 2, [1, 4, 3, [2, 4, 4, [3, 4, 5, [4, 4, 0, [4, 4, 0]]]]], 322]\n",
      "Will not add [1, 4, 3, [0, 4, 2, [1, 4, 3, [2, 4, 4, [3, 4, 5, [4, 4, 0, [4, 4, 0]]]]]], 570]\n",
      "Adding Successor: [0, 5, 3, [0, 4, 2, [1, 4, 3, [2, 4, 4, [3, 4, 5, [4, 4, 0, [4, 4, 0]]]]]], 517]\n",
      "Adding Successor: [0, 3, 1, [0, 4, 2, [1, 4, 3, [2, 4, 4, [3, 4, 5, [4, 4, 0, [4, 4, 0]]]]]], 506]\n",
      "Will not add [1, 3, 2, [0, 3, 1, [0, 4, 2, [1, 4, 3, [2, 4, 4, [3, 4, 5, [4, 4, 0, [4, 4, 0]]]]]]], 578]\n",
      "Will not add [0, 4, 2, [0, 3, 1, [0, 4, 2, [1, 4, 3, [2, 4, 4, [3, 4, 5, [4, 4, 0, [4, 4, 0]]]]]]], 642]\n",
      "Adding Successor: [0, 2, 0, [0, 3, 1, [0, 4, 2, [1, 4, 3, [2, 4, 4, [3, 4, 5, [4, 4, 0, [4, 4, 0]]]]]]], 512]\n",
      "[4, 4, 0, [4, 4, 0], 0] [3, 4, 5, [4, 4, 0, [4, 4, 0]], 12] [2, 4, 4, [3, 4, 5, [4, 4, 0, [4, 4, 0]]], 76] [1, 4, 3, [2, 4, 4, [3, 4, 5, [4, 4, 0, [4, 4, 0]]]], 314] [0, 4, 2, [1, 4, 3, [2, 4, 4, [3, 4, 5, [4, 4, 0, [4, 4, 0]]]]], 386] [0, 3, 1, [0, 4, 2, [1, 4, 3, [2, 4, 4, [3, 4, 5, [4, 4, 0, [4, 4, 0]]]]]], 506] [0, 2, 0, [0, 3, 1, [0, 4, 2, [1, 4, 3, [2, 4, 4, [3, 4, 5, [4, 4, 0, [4, 4, 0]]]]]]], 512]\n",
      "Drawing Line ( 4 , 4 )->( 4 , 4 )\n",
      "Drawing Line ( 3 , 0 )->( 2 , 0 )\n",
      "Drawing Line ( 4 , 0 )->( 3 , 0 )\n",
      "Drawing Line ( 4 , 1 )->( 4 , 0 )\n",
      "Drawing Line ( 4 , 2 )->( 4 , 1 )\n",
      "Drawing Line ( 4 , 3 )->( 4 , 2 )\n",
      "Drawing Line ( 4 , 4 )->( 4 , 3 )\n",
      "Steps:  7\n",
      "Value:  15\n",
      "Total G: 512\n"
     ]
    },
    {
     "name": "stderr",
     "output_type": "stream",
     "text": [
      "/Users/gab/anaconda3/envs/cs180/lib/python3.7/site-packages/ipykernel_launcher.py:2: RuntimeWarning: overflow encountered in ubyte_scalars\n",
      "  \n"
     ]
    }
   ],
   "source": [
    "start = find_start(matrix)\n",
    "end = find_end(matrix)\n",
    "#Algo options = UCS, GBFS, A*\n",
    "search(matrix, start, end, \"A*\", heuristic=\"MH\")\n"
   ]
  },
  {
   "cell_type": "code",
   "execution_count": 17,
   "metadata": {},
   "outputs": [
    {
     "name": "stdout",
     "output_type": "stream",
     "text": [
      "Algorithm: A*\n",
      "Adding Successor: [5, 4, 5, [4, 4, 0, [4, 4, 0]], 118]\n",
      "Adding Successor: [3, 4, 3, [4, 4, 0, [4, 4, 0]], 12]\n",
      "Adding Successor: [4, 5, 4, [4, 4, 0, [4, 4, 0]], 118]\n",
      "Adding Successor: [4, 3, 4, [4, 4, 0, [4, 4, 0]], 12]\n",
      "Will not add [4, 4, 4, [3, 4, 3, [4, 4, 0, [4, 4, 0]]], 256]\n",
      "Adding Successor: [2, 4, 2, [3, 4, 3, [4, 4, 0, [4, 4, 0]]], 76]\n",
      "Adding Successor: [3, 5, 3, [3, 4, 3, [4, 4, 0, [4, 4, 0]]], 30]\n",
      "Adding Successor: [3, 3, 3, [3, 4, 3, [4, 4, 0, [4, 4, 0]]], 220]\n",
      "Will not add [3, 4, 3, [2, 4, 2, [3, 4, 3, [4, 4, 0, [4, 4, 0]]]], 268]\n",
      "Adding Successor: [1, 4, 2, [2, 4, 2, [3, 4, 3, [4, 4, 0, [4, 4, 0]]]], 314]\n",
      "Adding Successor: [2, 5, 3, [2, 4, 2, [3, 4, 3, [4, 4, 0, [4, 4, 0]]]], 190]\n",
      "Adding Successor: [2, 3, 2, [2, 4, 2, [3, 4, 3, [4, 4, 0, [4, 4, 0]]]], 284]\n",
      "Will not add [2, 4, 2, [1, 4, 2, [2, 4, 2, [3, 4, 3, [4, 4, 0, [4, 4, 0]]]]], 332]\n",
      "Adding Successor: [0, 4, 2, [1, 4, 2, [2, 4, 2, [3, 4, 3, [4, 4, 0, [4, 4, 0]]]]], 386]\n",
      "Adding Successor: [1, 5, 3, [1, 4, 2, [2, 4, 2, [3, 4, 3, [4, 4, 0, [4, 4, 0]]]]], 337]\n",
      "Adding Successor: [1, 3, 1, [1, 4, 2, [2, 4, 2, [3, 4, 3, [4, 4, 0, [4, 4, 0]]]]], 322]\n",
      "Will not add [2, 3, 2, [1, 3, 1, [1, 4, 2, [2, 4, 2, [3, 4, 3, [4, 4, 0, [4, 4, 0]]]]]], 540]\n",
      "Adding Successor: [0, 3, 1, [1, 3, 1, [1, 4, 2, [2, 4, 2, [3, 4, 3, [4, 4, 0, [4, 4, 0]]]]]], 506]\n",
      "Will not add [1, 4, 2, [1, 3, 1, [1, 4, 2, [2, 4, 2, [3, 4, 3, [4, 4, 0, [4, 4, 0]]]]]], 570]\n",
      "Adding Successor: [1, 2, 1, [1, 3, 1, [1, 4, 2, [2, 4, 2, [3, 4, 3, [4, 4, 0, [4, 4, 0]]]]]], 552]\n",
      "Will not add [1, 3, 1, [0, 3, 1, [1, 3, 1, [1, 4, 2, [2, 4, 2, [3, 4, 3, [4, 4, 0, [4, 4, 0]]]]]]], 578]\n",
      "Will not add [0, 4, 2, [0, 3, 1, [1, 3, 1, [1, 4, 2, [2, 4, 2, [3, 4, 3, [4, 4, 0, [4, 4, 0]]]]]]], 642]\n",
      "Adding Successor: [0, 2, 0, [0, 3, 1, [1, 3, 1, [1, 4, 2, [2, 4, 2, [3, 4, 3, [4, 4, 0, [4, 4, 0]]]]]]], 512]\n",
      "[4, 4, 0, [4, 4, 0], 0] [3, 4, 3, [4, 4, 0, [4, 4, 0]], 12] [2, 4, 2, [3, 4, 3, [4, 4, 0, [4, 4, 0]]], 76] [1, 4, 2, [2, 4, 2, [3, 4, 3, [4, 4, 0, [4, 4, 0]]]], 314] [1, 3, 1, [1, 4, 2, [2, 4, 2, [3, 4, 3, [4, 4, 0, [4, 4, 0]]]]], 322] [0, 3, 1, [1, 3, 1, [1, 4, 2, [2, 4, 2, [3, 4, 3, [4, 4, 0, [4, 4, 0]]]]]], 506] [0, 2, 0, [0, 3, 1, [1, 3, 1, [1, 4, 2, [2, 4, 2, [3, 4, 3, [4, 4, 0, [4, 4, 0]]]]]]], 512]\n",
      "Drawing Line ( 4 , 4 )->( 4 , 4 )\n",
      "Drawing Line ( 3 , 0 )->( 2 , 0 )\n",
      "Drawing Line ( 4 , 1 )->( 3 , 1 )\n",
      "Drawing Line ( 3 , 1 )->( 3 , 0 )\n",
      "Drawing Line ( 4 , 3 )->( 4 , 2 )\n",
      "Drawing Line ( 4 , 2 )->( 4 , 1 )\n",
      "Drawing Line ( 4 , 4 )->( 4 , 3 )\n",
      "Steps:  7\n",
      "Value:  9\n",
      "Total G: 512\n"
     ]
    },
    {
     "name": "stderr",
     "output_type": "stream",
     "text": [
      "/Users/gab/anaconda3/envs/cs180/lib/python3.7/site-packages/ipykernel_launcher.py:2: RuntimeWarning: overflow encountered in ubyte_scalars\n",
      "  \n"
     ]
    }
   ],
   "source": [
    "start = find_start(matrix)\n",
    "end = find_end(matrix)\n",
    "search(matrix, start, end, \"A*\", \"DD\")"
   ]
  },
  {
   "cell_type": "code",
   "execution_count": null,
   "metadata": {},
   "outputs": [
    {
     "name": "stdout",
     "output_type": "stream",
     "text": [
      "Algorithm: A*\n",
      "Adding Successor: [5, 4, 5, [4, 4, 0, [4, 4, 0]], 118]\n",
      "Adding Successor: [3, 4, 3, [4, 4, 0, [4, 4, 0]], 12]\n",
      "Adding Successor: [4, 5, 4, [4, 4, 0, [4, 4, 0]], 118]\n",
      "Adding Successor: [4, 3, 4, [4, 4, 0, [4, 4, 0]], 12]\n",
      "Will not add [4, 4, 4, [3, 4, 3, [4, 4, 0, [4, 4, 0]]], 256]\n",
      "Adding Successor: [2, 4, 2, [3, 4, 3, [4, 4, 0, [4, 4, 0]]], 76]\n",
      "Adding Successor: [3, 5, 3, [3, 4, 3, [4, 4, 0, [4, 4, 0]]], 30]\n",
      "Adding Successor: [3, 3, 3, [3, 4, 3, [4, 4, 0, [4, 4, 0]]], 220]\n",
      "Will not add [3, 4, 3, [2, 4, 2, [3, 4, 3, [4, 4, 0, [4, 4, 0]]]], 268]\n",
      "Adding Successor: [1, 4, 1, [2, 4, 2, [3, 4, 3, [4, 4, 0, [4, 4, 0]]]], 314]\n",
      "Adding Successor: [2, 5, 2, [2, 4, 2, [3, 4, 3, [4, 4, 0, [4, 4, 0]]]], 190]\n",
      "Adding Successor: [2, 3, 2, [2, 4, 2, [3, 4, 3, [4, 4, 0, [4, 4, 0]]]], 284]\n",
      "Will not add [2, 4, 2, [1, 4, 1, [2, 4, 2, [3, 4, 3, [4, 4, 0, [4, 4, 0]]]]], 332]\n",
      "Adding Successor: [0, 4, 0, [1, 4, 1, [2, 4, 2, [3, 4, 3, [4, 4, 0, [4, 4, 0]]]]], 386]\n",
      "Adding Successor: [1, 5, 1, [1, 4, 1, [2, 4, 2, [3, 4, 3, [4, 4, 0, [4, 4, 0]]]]], 337]\n",
      "Adding Successor: [1, 3, 1, [1, 4, 1, [2, 4, 2, [3, 4, 3, [4, 4, 0, [4, 4, 0]]]]], 322]\n",
      "Will not add [1, 4, 1, [0, 4, 0, [1, 4, 1, [2, 4, 2, [3, 4, 3, [4, 4, 0, [4, 4, 0]]]]]], 570]\n",
      "Adding Successor: [0, 5, 0, [0, 4, 0, [1, 4, 1, [2, 4, 2, [3, 4, 3, [4, 4, 0, [4, 4, 0]]]]]], 517]\n",
      "Adding Successor: [0, 3, 0, [0, 4, 0, [1, 4, 1, [2, 4, 2, [3, 4, 3, [4, 4, 0, [4, 4, 0]]]]]], 506]\n",
      "Will not add [1, 5, 1, [0, 5, 0, [0, 4, 0, [1, 4, 1, [2, 4, 2, [3, 4, 3, [4, 4, 0, [4, 4, 0]]]]]]], 593]\n",
      "Adding Successor: [0, 6, 0, [0, 5, 0, [0, 4, 0, [1, 4, 1, [2, 4, 2, [3, 4, 3, [4, 4, 0, [4, 4, 0]]]]]]], 536]\n",
      "Will not add [0, 4, 0, [0, 5, 0, [0, 4, 0, [1, 4, 1, [2, 4, 2, [3, 4, 3, [4, 4, 0, [4, 4, 0]]]]]]], 642]\n",
      "Will not add [1, 3, 1, [0, 3, 0, [0, 4, 0, [1, 4, 1, [2, 4, 2, [3, 4, 3, [4, 4, 0, [4, 4, 0]]]]]]], 578]\n",
      "Will not add [0, 4, 0, [0, 3, 0, [0, 4, 0, [1, 4, 1, [2, 4, 2, [3, 4, 3, [4, 4, 0, [4, 4, 0]]]]]]], 642]\n",
      "Adding Successor: [0, 2, 0, [0, 3, 0, [0, 4, 0, [1, 4, 1, [2, 4, 2, [3, 4, 3, [4, 4, 0, [4, 4, 0]]]]]]], 512]\n",
      "Adding Successor: [1, 6, 1, [0, 6, 0, [0, 5, 0, [0, 4, 0, [1, 4, 1, [2, 4, 2, [3, 4, 3, [4, 4, 0, [4, 4, 0]]]]]]]], 596]\n",
      "Adding Successor: [0, 7, 0, [0, 6, 0, [0, 5, 0, [0, 4, 0, [1, 4, 1, [2, 4, 2, [3, 4, 3, [4, 4, 0, [4, 4, 0]]]]]]]], 714]\n",
      "Will not add [0, 5, 0, [0, 6, 0, [0, 5, 0, [0, 4, 0, [1, 4, 1, [2, 4, 2, [3, 4, 3, [4, 4, 0, [4, 4, 0]]]]]]]], 773]\n",
      "[4, 4, 0, [4, 4, 0], 0] [3, 4, 3, [4, 4, 0, [4, 4, 0]], 12] [2, 4, 2, [3, 4, 3, [4, 4, 0, [4, 4, 0]]], 76] [1, 4, 1, [2, 4, 2, [3, 4, 3, [4, 4, 0, [4, 4, 0]]]], 314] [0, 4, 0, [1, 4, 1, [2, 4, 2, [3, 4, 3, [4, 4, 0, [4, 4, 0]]]]], 386] [0, 5, 0, [0, 4, 0, [1, 4, 1, [2, 4, 2, [3, 4, 3, [4, 4, 0, [4, 4, 0]]]]]], 517] [0, 3, 0, [0, 4, 0, [1, 4, 1, [2, 4, 2, [3, 4, 3, [4, 4, 0, [4, 4, 0]]]]]], 506] [0, 6, 0, [0, 5, 0, [0, 4, 0, [1, 4, 1, [2, 4, 2, [3, 4, 3, [4, 4, 0, [4, 4, 0]]]]]]], 536] [0, 2, 0, [0, 3, 0, [0, 4, 0, [1, 4, 1, [2, 4, 2, [3, 4, 3, [4, 4, 0, [4, 4, 0]]]]]]], 512]\n",
      "Drawing Line ( 4 , 4 )->( 4 , 4 )\n",
      "Drawing Line ( 4 , 1 )->( 4 , 0 )\n",
      "Drawing Line ( 4 , 0 )->( 5 , 0 )\n",
      "Drawing Line ( 4 , 0 )->( 3 , 0 )\n",
      "Drawing Line ( 5 , 0 )->( 6 , 0 )\n",
      "Drawing Line ( 3 , 0 )->( 2 , 0 )\n",
      "Drawing Line ( 4 , 2 )->( 4 , 1 )\n",
      "Drawing Line ( 4 , 3 )->( 4 , 2 )\n",
      "Drawing Line ( 4 , 4 )->( 4 , 3 )\n",
      "Steps:  9\n",
      "Value:  6\n",
      "Total G: 512\n"
     ]
    },
    {
     "name": "stderr",
     "output_type": "stream",
     "text": [
      "/Users/gab/anaconda3/envs/cs180/lib/python3.7/site-packages/ipykernel_launcher.py:2: RuntimeWarning: overflow encountered in ubyte_scalars\n",
      "  \n"
     ]
    }
   ],
   "source": [
    "start = find_start(matrix)\n",
    "end = find_end(matrix)\n",
    "search(matrix, start, end, \"A*\", \"FDD\")"
   ]
  },
  {
   "cell_type": "code",
   "execution_count": null,
   "metadata": {},
   "outputs": [],
   "source": []
  },
  {
   "cell_type": "code",
   "execution_count": null,
   "metadata": {},
   "outputs": [],
   "source": []
  },
  {
   "cell_type": "code",
   "execution_count": null,
   "metadata": {},
   "outputs": [],
   "source": []
  },
  {
   "cell_type": "code",
   "execution_count": null,
   "metadata": {},
   "outputs": [],
   "source": []
  },
  {
   "cell_type": "code",
   "execution_count": null,
   "metadata": {},
   "outputs": [],
   "source": []
  }
 ],
 "metadata": {
  "kernelspec": {
   "display_name": "Python 3",
   "language": "python",
   "name": "python3"
  },
  "language_info": {
   "codemirror_mode": {
    "name": "ipython",
    "version": 3
   },
   "file_extension": ".py",
   "mimetype": "text/x-python",
   "name": "python",
   "nbconvert_exporter": "python",
   "pygments_lexer": "ipython3",
   "version": "3.7.4"
  }
 },
 "nbformat": 4,
 "nbformat_minor": 2
}
