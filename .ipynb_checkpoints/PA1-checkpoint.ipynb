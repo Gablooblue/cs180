{
 "cells": [
  {
   "cell_type": "code",
   "execution_count": null,
   "metadata": {},
   "outputs": [],
   "source": [
    "import numpy\n",
    "import cv2"
   ]
  },
  {
   "cell_type": "code",
   "execution_count": null,
   "metadata": {},
   "outputs": [],
   "source": [
    "'''\n",
    "Priority Queue class taken from GeeksForGeeks\n",
    "https://www.geeksforgeeks.org/priority-queue-in-python/\n",
    "'''\n",
    "class PriorityQueue(object): \n",
    "    def __init__(self): \n",
    "        self.queue = [] \n",
    "  \n",
    "    def __str__(self): \n",
    "        return ' '.join([str(i) for i in self.queue]) \n",
    "  \n",
    "    # for checking if the queue is empty \n",
    "    def isEmpty(self): \n",
    "        return len(self.queue) == 0\n",
    "  \n",
    "    # for inserting an element in the queue \n",
    "    def insert(self, data): \n",
    "        self.queue.append(data) \n",
    "  \n",
    "    # for popping an element based on Priority \n",
    "    def delete(self): \n",
    "        try: \n",
    "            max = 0\n",
    "            for i in range(len(self.queue)): \n",
    "                if self.queue[i] > self.queue[max]: \n",
    "                    max = i \n",
    "            item = self.queue[max] \n",
    "            del self.queue[max] \n",
    "            return item \n",
    "        except IndexError: \n",
    "            print() \n",
    "            exit() "
   ]
  },
  {
   "cell_type": "code",
   "execution_count": null,
   "metadata": {},
   "outputs": [],
   "source": [
    "test_1 = cv2.imread(\"test1.png\", 1)\n",
    "print(test_1)"
   ]
  },
  {
   "cell_type": "code",
   "execution_count": null,
   "metadata": {},
   "outputs": [],
   "source": []
  }
 ],
 "metadata": {
  "kernelspec": {
   "display_name": "Python 3",
   "language": "python",
   "name": "python3"
  },
  "language_info": {
   "codemirror_mode": {
    "name": "ipython",
    "version": 3
   },
   "file_extension": ".py",
   "mimetype": "text/x-python",
   "name": "python",
   "nbconvert_exporter": "python",
   "pygments_lexer": "ipython3",
   "version": "3.7.4"
  }
 },
 "nbformat": 4,
 "nbformat_minor": 2
}
